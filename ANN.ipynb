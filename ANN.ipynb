{
 "cells": [
  {
   "cell_type": "code",
   "execution_count": 1,
   "metadata": {},
   "outputs": [],
   "source": [
    "import numpy as np\n",
    "import matplotlib.pyplot as plt\n",
    "import tensorflow as tf"
   ]
  },
  {
   "cell_type": "code",
   "execution_count": 2,
   "metadata": {},
   "outputs": [
    {
     "data": {
      "text/plain": [
       "'2.10.0'"
      ]
     },
     "execution_count": 2,
     "metadata": {},
     "output_type": "execute_result"
    }
   ],
   "source": [
    "tf.__version__"
   ]
  },
  {
   "cell_type": "code",
   "execution_count": 3,
   "metadata": {},
   "outputs": [],
   "source": [
    "import os"
   ]
  },
  {
   "cell_type": "code",
   "execution_count": 4,
   "metadata": {},
   "outputs": [],
   "source": [
    "rootdir = './data/'\n",
    "labels = []\n",
    "\n",
    "for file in os.listdir(rootdir):\n",
    "    labels.append(file)\n",
    "    "
   ]
  },
  {
   "cell_type": "code",
   "execution_count": 5,
   "metadata": {},
   "outputs": [
    {
     "data": {
      "text/plain": [
       "['03', '1', '100519733001', '100519733006', '100519733015', '2', '7']"
      ]
     },
     "execution_count": 5,
     "metadata": {},
     "output_type": "execute_result"
    }
   ],
   "source": [
    "labels"
   ]
  },
  {
   "cell_type": "code",
   "execution_count": 6,
   "metadata": {},
   "outputs": [],
   "source": [
    "x, y = [] , []\n"
   ]
  },
  {
   "cell_type": "code",
   "execution_count": 7,
   "metadata": {},
   "outputs": [],
   "source": [
    "from PIL import Image"
   ]
  },
  {
   "cell_type": "code",
   "execution_count": 8,
   "metadata": {},
   "outputs": [],
   "source": [
    "for index , label in enumerate(labels):\n",
    "    path = rootdir+ label\n",
    "    for file in os.listdir(path):\n",
    "        image = Image.open(os.path.join( path, file) , \"r\")\n",
    "        image = np.asarray(image)\n",
    "        x.append(image / 255)\n",
    "        y.append(index)"
   ]
  },
  {
   "cell_type": "code",
   "execution_count": 9,
   "metadata": {},
   "outputs": [
    {
     "data": {
      "text/plain": [
       "1134"
      ]
     },
     "execution_count": 9,
     "metadata": {},
     "output_type": "execute_result"
    }
   ],
   "source": [
    "len(x)"
   ]
  },
  {
   "cell_type": "code",
   "execution_count": 10,
   "metadata": {},
   "outputs": [],
   "source": [
    "x = np.asarray(x)\n",
    "y = np.asarray(y)"
   ]
  },
  {
   "cell_type": "code",
   "execution_count": 11,
   "metadata": {},
   "outputs": [
    {
     "data": {
      "text/plain": [
       "1134"
      ]
     },
     "execution_count": 11,
     "metadata": {},
     "output_type": "execute_result"
    }
   ],
   "source": [
    "\n",
    "len(y)"
   ]
  },
  {
   "cell_type": "code",
   "execution_count": 12,
   "metadata": {},
   "outputs": [
    {
     "data": {
      "text/plain": [
       "numpy.ndarray"
      ]
     },
     "execution_count": 12,
     "metadata": {},
     "output_type": "execute_result"
    }
   ],
   "source": [
    "type(x[6])"
   ]
  },
  {
   "cell_type": "code",
   "execution_count": 13,
   "metadata": {},
   "outputs": [
    {
     "data": {
      "text/plain": [
       "array([[0.84705882, 0.84313725, 0.84313725, ..., 0.74901961, 0.74901961,\n",
       "        0.74901961],\n",
       "       [0.84313725, 0.84313725, 0.84313725, ..., 0.74901961, 0.74901961,\n",
       "        0.74901961],\n",
       "       [0.84313725, 0.84313725, 0.84313725, ..., 0.75294118, 0.74901961,\n",
       "        0.74901961],\n",
       "       ...,\n",
       "       [0.23921569, 0.23921569, 0.23529412, ..., 0.87058824, 0.8745098 ,\n",
       "        0.87843137],\n",
       "       [0.23137255, 0.23137255, 0.23137255, ..., 0.8745098 , 0.8745098 ,\n",
       "        0.87843137],\n",
       "       [0.21960784, 0.22352941, 0.22352941, ..., 0.87843137, 0.87843137,\n",
       "        0.87843137]])"
      ]
     },
     "execution_count": 13,
     "metadata": {},
     "output_type": "execute_result"
    }
   ],
   "source": [
    "x[0]"
   ]
  },
  {
   "cell_type": "code",
   "execution_count": 14,
   "metadata": {},
   "outputs": [],
   "source": [
    "model = tf.keras.models.Sequential([\n",
    "    tf.keras.layers.Flatten(input_shape=[256, 256]),\n",
    "    tf.keras.layers.Dense(200, activation=\"relu\"),\n",
    "    tf.keras.layers.Dense(150, activation=\"relu\"),\n",
    "    tf.keras.layers.Dense(len(labels), activation=\"softmax\")\n",
    "])"
   ]
  },
  {
   "cell_type": "code",
   "execution_count": 15,
   "metadata": {},
   "outputs": [
    {
     "name": "stdout",
     "output_type": "stream",
     "text": [
      "Model: \"sequential\"\n",
      "_________________________________________________________________\n",
      " Layer (type)                Output Shape              Param #   \n",
      "=================================================================\n",
      " flatten (Flatten)           (None, 65536)             0         \n",
      "                                                                 \n",
      " dense (Dense)               (None, 200)               13107400  \n",
      "                                                                 \n",
      " dense_1 (Dense)             (None, 150)               30150     \n",
      "                                                                 \n",
      " dense_2 (Dense)             (None, 7)                 1057      \n",
      "                                                                 \n",
      "=================================================================\n",
      "Total params: 13,138,607\n",
      "Trainable params: 13,138,607\n",
      "Non-trainable params: 0\n",
      "_________________________________________________________________\n"
     ]
    }
   ],
   "source": [
    "model.summary()"
   ]
  },
  {
   "cell_type": "code",
   "execution_count": 16,
   "metadata": {},
   "outputs": [
    {
     "data": {
      "text/plain": [
       "[<keras.layers.reshaping.flatten.Flatten at 0x1e87ccb7bb0>,\n",
       " <keras.layers.core.dense.Dense at 0x1e87ccb76a0>,\n",
       " <keras.layers.core.dense.Dense at 0x1e87ccb77c0>,\n",
       " <keras.layers.core.dense.Dense at 0x1e87ccb6ec0>]"
      ]
     },
     "execution_count": 16,
     "metadata": {},
     "output_type": "execute_result"
    }
   ],
   "source": [
    "model.layers"
   ]
  },
  {
   "cell_type": "code",
   "execution_count": 17,
   "metadata": {},
   "outputs": [],
   "source": [
    "from sklearn.model_selection import train_test_split"
   ]
  },
  {
   "cell_type": "code",
   "execution_count": 18,
   "metadata": {},
   "outputs": [],
   "source": [
    "xtrain , xtest , ytrain , ytest = train_test_split(x , y, test_size = 0.2)"
   ]
  },
  {
   "cell_type": "code",
   "execution_count": 19,
   "metadata": {},
   "outputs": [
    {
     "data": {
      "text/plain": [
       "907"
      ]
     },
     "execution_count": 19,
     "metadata": {},
     "output_type": "execute_result"
    }
   ],
   "source": [
    "len(xtrain)"
   ]
  },
  {
   "cell_type": "code",
   "execution_count": 20,
   "metadata": {},
   "outputs": [],
   "source": [
    "model.compile(loss = \"sparse_categorical_crossentropy\", optimizer = \"adam\" , metrics = [\"accuracy\"])"
   ]
  },
  {
   "cell_type": "code",
   "execution_count": 21,
   "metadata": {},
   "outputs": [],
   "source": [
    "xtrain , xvalid = xtrain[:140], xtrain[140:]\n",
    "ytrain , yvalid = ytrain[:140] , ytrain[140:]"
   ]
  },
  {
   "cell_type": "code",
   "execution_count": 22,
   "metadata": {},
   "outputs": [
    {
     "data": {
      "text/plain": [
       "140"
      ]
     },
     "execution_count": 22,
     "metadata": {},
     "output_type": "execute_result"
    }
   ],
   "source": [
    "len(xtrain)"
   ]
  },
  {
   "cell_type": "code",
   "execution_count": 23,
   "metadata": {},
   "outputs": [],
   "source": [
    "checkpoint_cb = tf.keras.callbacks.ModelCheckpoint('model1ANN.h5' , save_best_only = True)\n",
    "early_stopping_cb = tf.keras.callbacks.EarlyStopping(patience=7,restore_best_weights=True)\n"
   ]
  },
  {
   "cell_type": "code",
   "execution_count": 24,
   "metadata": {},
   "outputs": [],
   "source": [
    "xtrain = np.asarray(xtrain)"
   ]
  },
  {
   "cell_type": "code",
   "execution_count": 25,
   "metadata": {},
   "outputs": [
    {
     "data": {
      "text/plain": [
       "(140, 256, 256)"
      ]
     },
     "execution_count": 25,
     "metadata": {},
     "output_type": "execute_result"
    }
   ],
   "source": [
    "xtrain.shape"
   ]
  },
  {
   "cell_type": "code",
   "execution_count": 26,
   "metadata": {},
   "outputs": [
    {
     "name": "stdout",
     "output_type": "stream",
     "text": [
      "Epoch 1/30\n",
      "5/5 [==============================] - 4s 597ms/step - loss: 23.7597 - accuracy: 0.1214 - val_loss: 9.9620 - val_accuracy: 0.3416\n",
      "Epoch 2/30\n",
      "5/5 [==============================] - 1s 239ms/step - loss: 8.0431 - accuracy: 0.4000 - val_loss: 10.6267 - val_accuracy: 0.5385\n",
      "Epoch 3/30\n",
      "5/5 [==============================] - 2s 414ms/step - loss: 5.8358 - accuracy: 0.7000 - val_loss: 1.9442 - val_accuracy: 0.6858\n",
      "Epoch 4/30\n",
      "5/5 [==============================] - 2s 361ms/step - loss: 1.2642 - accuracy: 0.7643 - val_loss: 0.6876 - val_accuracy: 0.8605\n",
      "Epoch 5/30\n",
      "5/5 [==============================] - 1s 348ms/step - loss: 0.3980 - accuracy: 0.9143 - val_loss: 0.4936 - val_accuracy: 0.9074\n",
      "Epoch 6/30\n",
      "5/5 [==============================] - 1s 230ms/step - loss: 0.2628 - accuracy: 0.9286 - val_loss: 0.5539 - val_accuracy: 0.9074\n",
      "Epoch 7/30\n",
      "5/5 [==============================] - 1s 340ms/step - loss: 0.1125 - accuracy: 0.9500 - val_loss: 0.3528 - val_accuracy: 0.9205\n",
      "Epoch 8/30\n",
      "5/5 [==============================] - 2s 399ms/step - loss: 0.0827 - accuracy: 0.9714 - val_loss: 0.2272 - val_accuracy: 0.9687\n",
      "Epoch 9/30\n",
      "5/5 [==============================] - 1s 222ms/step - loss: 0.0121 - accuracy: 0.9929 - val_loss: 0.2756 - val_accuracy: 0.9609\n",
      "Epoch 10/30\n",
      "5/5 [==============================] - 1s 227ms/step - loss: 0.0044 - accuracy: 1.0000 - val_loss: 0.3387 - val_accuracy: 0.9465\n",
      "Epoch 11/30\n",
      "5/5 [==============================] - 1s 218ms/step - loss: 0.0056 - accuracy: 1.0000 - val_loss: 0.3195 - val_accuracy: 0.9596\n",
      "Epoch 12/30\n",
      "5/5 [==============================] - 1s 234ms/step - loss: 0.0015 - accuracy: 1.0000 - val_loss: 0.2790 - val_accuracy: 0.9713\n"
     ]
    }
   ],
   "source": [
    "history = model.fit(xtrain ,ytrain , epochs = 30,validation_data = (xvalid, yvalid) ,\n",
    "                    callbacks = [checkpoint_cb , early_stopping_cb])"
   ]
  },
  {
   "cell_type": "code",
   "execution_count": 27,
   "metadata": {},
   "outputs": [
    {
     "name": "stdout",
     "output_type": "stream",
     "text": [
      "8/8 [==============================] - 0s 18ms/step\n"
     ]
    }
   ],
   "source": [
    "preds = model.predict(xtest)"
   ]
  },
  {
   "cell_type": "code",
   "execution_count": 28,
   "metadata": {},
   "outputs": [],
   "source": [
    "x = []\n",
    "for pred in preds:\n",
    "    x.append(np.argmax(pred))"
   ]
  },
  {
   "cell_type": "code",
   "execution_count": 29,
   "metadata": {},
   "outputs": [],
   "source": [
    "from sklearn.metrics import confusion_matrix"
   ]
  },
  {
   "cell_type": "code",
   "execution_count": 30,
   "metadata": {},
   "outputs": [
    {
     "data": {
      "text/plain": [
       "array([[26,  0,  0,  1,  0,  0,  0],\n",
       "       [ 0, 40,  0,  1,  0,  0,  0],\n",
       "       [ 2,  0, 37,  0,  0,  0,  0],\n",
       "       [ 0,  0,  1, 36,  0,  0,  0],\n",
       "       [ 0,  0,  0,  0, 42,  0,  0],\n",
       "       [ 0,  0,  0,  0,  0,  5,  0],\n",
       "       [ 0,  0,  1,  0,  0,  0, 35]], dtype=int64)"
      ]
     },
     "execution_count": 30,
     "metadata": {},
     "output_type": "execute_result"
    }
   ],
   "source": [
    "confusion_matrix(ytest, x)"
   ]
  },
  {
   "cell_type": "code",
   "execution_count": null,
   "metadata": {},
   "outputs": [],
   "source": []
  },
  {
   "cell_type": "code",
   "execution_count": null,
   "metadata": {},
   "outputs": [],
   "source": []
  },
  {
   "cell_type": "code",
   "execution_count": null,
   "metadata": {},
   "outputs": [],
   "source": []
  },
  {
   "cell_type": "code",
   "execution_count": null,
   "metadata": {},
   "outputs": [],
   "source": []
  },
  {
   "cell_type": "code",
   "execution_count": null,
   "metadata": {},
   "outputs": [],
   "source": []
  },
  {
   "cell_type": "code",
   "execution_count": null,
   "metadata": {},
   "outputs": [],
   "source": []
  }
 ],
 "metadata": {
  "kernelspec": {
   "display_name": "Python 3 (ipykernel)",
   "language": "python",
   "name": "python3"
  },
  "language_info": {
   "codemirror_mode": {
    "name": "ipython",
    "version": 3
   },
   "file_extension": ".py",
   "mimetype": "text/x-python",
   "name": "python",
   "nbconvert_exporter": "python",
   "pygments_lexer": "ipython3",
   "version": "3.10.4"
  },
  "vscode": {
   "interpreter": {
    "hash": "625782bb4a5ed1925d970560710afcd312a01e169866bd75e8adcc34d822bdd0"
   }
  }
 },
 "nbformat": 4,
 "nbformat_minor": 2
}
